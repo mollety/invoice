{
 "cells": [
  {
   "cell_type": "code",
   "execution_count": null,
   "metadata": {},
   "outputs": [],
   "source": [
    "from dotenv import load_dotenv\n",
    "import os\n",
    "import google.generativeai as genai\n",
    "\n",
    "load_dotenv()  # Loading all environmental variables from .env\n",
    "\n",
    "# Configure the Google Generative AI with the API key\n",
    "api_key = os.getenv(\"GOOGLE_API_KEY\")\n",
    "if not api_key:\n",
    "    raise ValueError(\"API key not found. Please check your .env file.\")\n",
    "\n",
    "genai.configure(api_key=api_key)\n",
    "\n",
    "# Function to list available models\n",
    "def list_available_models():\n",
    "    models = genai.list_models()\n",
    "    for model in models:\n",
    "        print(f\"Model ID: {model.model_id}\")\n",
    "        print(f\"Display Name: {model.display_name}\")\n",
    "        print(f\"Description: {model.description}\")\n",
    "        print()\n",
    "\n",
    "list_available_models()\n"
   ]
  }
 ],
 "metadata": {
  "language_info": {
   "name": "python"
  }
 },
 "nbformat": 4,
 "nbformat_minor": 2
}
